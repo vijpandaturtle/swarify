{
  "nbformat": 4,
  "nbformat_minor": 0,
  "metadata": {
    "colab": {
      "name": "Play Notes SCAMP.ipynb",
      "provenance": []
    },
    "kernelspec": {
      "name": "python3",
      "display_name": "Python 3"
    }
  },
  "cells": [
    {
      "cell_type": "code",
      "metadata": {
        "id": "iOqTrZlwBvWp",
        "outputId": "d5b781a7-bfa8-4362-dec3-033ba6636607",
        "colab": {
          "base_uri": "https://localhost:8080/",
          "height": 1000
        }
      },
      "source": [
        "!pip install scamp python-rtmidi abjad"
      ],
      "execution_count": 8,
      "outputs": [
        {
          "output_type": "stream",
          "text": [
            "Requirement already satisfied: scamp in /usr/local/lib/python3.6/dist-packages (0.7.5)\n",
            "Collecting python-rtmidi\n",
            "  Using cached https://files.pythonhosted.org/packages/96/13/089ef69bf786ef5f94567655a702b43019bec7ffefeeaaecb3a098430232/python-rtmidi-1.4.5.tar.gz\n",
            "Collecting abjad\n",
            "  Using cached https://files.pythonhosted.org/packages/f7/2f/23b14c7ff2ca1a5728e81fc1b5960374ec444efad43b197dca00953d90cc/Abjad-3.1.tar.gz\n",
            "Requirement already satisfied: sf2utils in /usr/local/lib/python3.6/dist-packages (from scamp) (0.9.0)\n",
            "Requirement already satisfied: pymusicxml>=0.3.4 in /usr/local/lib/python3.6/dist-packages (from scamp) (0.3.4)\n",
            "Requirement already satisfied: expenvelope>=0.6.0 in /usr/local/lib/python3.6/dist-packages (from scamp) (0.6)\n",
            "Requirement already satisfied: clockblocks>=0.5.3 in /usr/local/lib/python3.6/dist-packages (from scamp) (0.5.3)\n",
            "Requirement already satisfied: python-osc in /usr/local/lib/python3.6/dist-packages (from scamp) (1.7.4)\n",
            "Collecting ply\n",
            "\u001b[?25l  Downloading https://files.pythonhosted.org/packages/a3/58/35da89ee790598a0700ea49b2a66594140f44dec458c07e8e3d4979137fc/ply-3.11-py2.py3-none-any.whl (49kB)\n",
            "\u001b[K     |████████████████████████████████| 51kB 1.5MB/s \n",
            "\u001b[?25hCollecting roman\n",
            "  Downloading https://files.pythonhosted.org/packages/c3/9e/47df0bf47ccd7e9bbbf0a539ac86e45ded37c34dba544a0a2e5d01ce5f88/roman-3.3-py2.py3-none-any.whl\n",
            "Collecting uqbar<0.5.0,>=0.4.4\n",
            "\u001b[?25l  Downloading https://files.pythonhosted.org/packages/dc/f9/7d94f45f4bdbe23dbe55f000034ab2cd9dc554b4772572bc22c231152701/uqbar-0.4.7.tar.gz (56kB)\n",
            "\u001b[K     |████████████████████████████████| 61kB 3.3MB/s \n",
            "\u001b[?25hCollecting Sphinx>=3.0.0\n",
            "\u001b[?25l  Downloading https://files.pythonhosted.org/packages/63/b8/34ba32a94cb2b223b941e43b3bcab11281763b95daa8587879eec1eb9a62/Sphinx-3.2.1-py3-none-any.whl (2.9MB)\n",
            "\u001b[K     |████████████████████████████████| 2.9MB 5.1MB/s \n",
            "\u001b[?25hCollecting Unidecode>=1.0.0\n",
            "\u001b[?25l  Downloading https://files.pythonhosted.org/packages/d0/42/d9edfed04228bacea2d824904cae367ee9efd05e6cce7ceaaedd0b0ad964/Unidecode-1.1.1-py2.py3-none-any.whl (238kB)\n",
            "\u001b[K     |████████████████████████████████| 245kB 19.4MB/s \n",
            "\u001b[?25hCollecting black>=19.3b0\n",
            "\u001b[?25l  Downloading https://files.pythonhosted.org/packages/dc/7b/5a6bbe89de849f28d7c109f5ea87b65afa5124ad615f3419e71beb29dc96/black-20.8b1.tar.gz (1.1MB)\n",
            "\u001b[K     |████████████████████████████████| 1.1MB 20.5MB/s \n",
            "\u001b[?25h  Installing build dependencies ... \u001b[?25l\u001b[?25hdone\n",
            "  Getting requirements to build wheel ... \u001b[?25l\u001b[?25hdone\n",
            "    Preparing wheel metadata ... \u001b[?25l\u001b[?25hdone\n",
            "Collecting sphinx-rtd-theme>=0.4.0\n",
            "\u001b[?25l  Downloading https://files.pythonhosted.org/packages/c3/86/1addf25a238bbd8466bb099f23d9a9f13494b22b37b44f6c41a778b8730f/sphinx_rtd_theme-0.5.0-py2.py3-none-any.whl (10.8MB)\n",
            "\u001b[K     |████████████████████████████████| 10.8MB 22.0MB/s \n",
            "\u001b[?25hRequirement already satisfied: dataclasses in /usr/local/lib/python3.6/dist-packages (from uqbar<0.5.0,>=0.4.4->abjad) (0.7)\n",
            "Requirement already satisfied: setuptools in /usr/local/lib/python3.6/dist-packages (from Sphinx>=3.0.0->uqbar<0.5.0,>=0.4.4->abjad) (50.3.0)\n",
            "Requirement already satisfied: alabaster<0.8,>=0.7 in /usr/local/lib/python3.6/dist-packages (from Sphinx>=3.0.0->uqbar<0.5.0,>=0.4.4->abjad) (0.7.12)\n",
            "Collecting sphinxcontrib-jsmath\n",
            "  Downloading https://files.pythonhosted.org/packages/c2/42/4c8646762ee83602e3fb3fbe774c2fac12f317deb0b5dbeeedd2d3ba4b77/sphinxcontrib_jsmath-1.0.1-py2.py3-none-any.whl\n",
            "Collecting sphinxcontrib-htmlhelp\n",
            "\u001b[?25l  Downloading https://files.pythonhosted.org/packages/36/62/8222554b29b3acde8420128d6d3999c5904d40922ef4b6ccb370e2be7421/sphinxcontrib_htmlhelp-1.0.3-py2.py3-none-any.whl (96kB)\n",
            "\u001b[K     |████████████████████████████████| 102kB 9.5MB/s \n",
            "\u001b[?25hRequirement already satisfied: Jinja2>=2.3 in /usr/local/lib/python3.6/dist-packages (from Sphinx>=3.0.0->uqbar<0.5.0,>=0.4.4->abjad) (2.11.2)\n",
            "Requirement already satisfied: babel>=1.3 in /usr/local/lib/python3.6/dist-packages (from Sphinx>=3.0.0->uqbar<0.5.0,>=0.4.4->abjad) (2.8.0)\n",
            "Requirement already satisfied: packaging in /usr/local/lib/python3.6/dist-packages (from Sphinx>=3.0.0->uqbar<0.5.0,>=0.4.4->abjad) (20.4)\n",
            "Requirement already satisfied: Pygments>=2.0 in /usr/local/lib/python3.6/dist-packages (from Sphinx>=3.0.0->uqbar<0.5.0,>=0.4.4->abjad) (2.6.1)\n",
            "Requirement already satisfied: snowballstemmer>=1.1 in /usr/local/lib/python3.6/dist-packages (from Sphinx>=3.0.0->uqbar<0.5.0,>=0.4.4->abjad) (2.0.0)\n",
            "Collecting sphinxcontrib-applehelp\n",
            "\u001b[?25l  Downloading https://files.pythonhosted.org/packages/dc/47/86022665a9433d89a66f5911b558ddff69861766807ba685de2e324bd6ed/sphinxcontrib_applehelp-1.0.2-py2.py3-none-any.whl (121kB)\n",
            "\u001b[K     |████████████████████████████████| 122kB 36.8MB/s \n",
            "\u001b[?25hCollecting sphinxcontrib-devhelp\n",
            "\u001b[?25l  Downloading https://files.pythonhosted.org/packages/c5/09/5de5ed43a521387f18bdf5f5af31d099605c992fd25372b2b9b825ce48ee/sphinxcontrib_devhelp-1.0.2-py2.py3-none-any.whl (84kB)\n",
            "\u001b[K     |████████████████████████████████| 92kB 8.8MB/s \n",
            "\u001b[?25hRequirement already satisfied: requests>=2.5.0 in /usr/local/lib/python3.6/dist-packages (from Sphinx>=3.0.0->uqbar<0.5.0,>=0.4.4->abjad) (2.23.0)\n",
            "Requirement already satisfied: docutils>=0.12 in /usr/local/lib/python3.6/dist-packages (from Sphinx>=3.0.0->uqbar<0.5.0,>=0.4.4->abjad) (0.15.2)\n",
            "Collecting sphinxcontrib-qthelp\n",
            "\u001b[?25l  Downloading https://files.pythonhosted.org/packages/2b/14/05f9206cf4e9cfca1afb5fd224c7cd434dcc3a433d6d9e4e0264d29c6cdb/sphinxcontrib_qthelp-1.0.3-py2.py3-none-any.whl (90kB)\n",
            "\u001b[K     |████████████████████████████████| 92kB 9.2MB/s \n",
            "\u001b[?25hRequirement already satisfied: imagesize in /usr/local/lib/python3.6/dist-packages (from Sphinx>=3.0.0->uqbar<0.5.0,>=0.4.4->abjad) (1.2.0)\n",
            "Requirement already satisfied: sphinxcontrib-serializinghtml in /usr/local/lib/python3.6/dist-packages (from Sphinx>=3.0.0->uqbar<0.5.0,>=0.4.4->abjad) (1.1.4)\n",
            "Requirement already satisfied: toml>=0.10.1 in /usr/local/lib/python3.6/dist-packages (from black>=19.3b0->uqbar<0.5.0,>=0.4.4->abjad) (0.10.1)\n",
            "Collecting pathspec<1,>=0.6\n",
            "  Downloading https://files.pythonhosted.org/packages/5d/d0/887c58853bd4b6ffc7aa9cdba4fc57d7b979b45888a6bd47e4568e1cf868/pathspec-0.8.0-py2.py3-none-any.whl\n",
            "Collecting mypy-extensions>=0.4.3\n",
            "  Downloading https://files.pythonhosted.org/packages/5c/eb/975c7c080f3223a5cdaff09612f3a5221e4ba534f7039db34c35d95fa6a5/mypy_extensions-0.4.3-py2.py3-none-any.whl\n",
            "Collecting appdirs\n",
            "  Downloading https://files.pythonhosted.org/packages/3b/00/2344469e2084fb287c2e0b57b72910309874c3245463acd6cf5e3db69324/appdirs-1.4.4-py2.py3-none-any.whl\n",
            "Requirement already satisfied: click>=7.1.2 in /usr/local/lib/python3.6/dist-packages (from black>=19.3b0->uqbar<0.5.0,>=0.4.4->abjad) (7.1.2)\n",
            "Collecting regex>=2020.1.8\n",
            "\u001b[?25l  Downloading https://files.pythonhosted.org/packages/e4/90/0dae9bdebd8f8f8a39f1b80fdef240bec36ff64359f5fc584034ce4633cf/regex-2020.9.27-cp36-cp36m-manylinux2010_x86_64.whl (662kB)\n",
            "\u001b[K     |████████████████████████████████| 665kB 36.2MB/s \n",
            "\u001b[?25hRequirement already satisfied: typing-extensions>=3.7.4 in /usr/local/lib/python3.6/dist-packages (from black>=19.3b0->uqbar<0.5.0,>=0.4.4->abjad) (3.7.4.3)\n",
            "Collecting typed-ast>=1.4.0\n",
            "\u001b[?25l  Downloading https://files.pythonhosted.org/packages/90/ed/5459080d95eb87a02fe860d447197be63b6e2b5e9ff73c2b0a85622994f4/typed_ast-1.4.1-cp36-cp36m-manylinux1_x86_64.whl (737kB)\n",
            "\u001b[K     |████████████████████████████████| 747kB 47.4MB/s \n",
            "\u001b[?25hRequirement already satisfied: MarkupSafe>=0.23 in /usr/local/lib/python3.6/dist-packages (from Jinja2>=2.3->Sphinx>=3.0.0->uqbar<0.5.0,>=0.4.4->abjad) (1.1.1)\n",
            "Requirement already satisfied: pytz>=2015.7 in /usr/local/lib/python3.6/dist-packages (from babel>=1.3->Sphinx>=3.0.0->uqbar<0.5.0,>=0.4.4->abjad) (2018.9)\n",
            "Requirement already satisfied: six in /usr/local/lib/python3.6/dist-packages (from packaging->Sphinx>=3.0.0->uqbar<0.5.0,>=0.4.4->abjad) (1.15.0)\n",
            "Requirement already satisfied: pyparsing>=2.0.2 in /usr/local/lib/python3.6/dist-packages (from packaging->Sphinx>=3.0.0->uqbar<0.5.0,>=0.4.4->abjad) (2.4.7)\n",
            "Requirement already satisfied: idna<3,>=2.5 in /usr/local/lib/python3.6/dist-packages (from requests>=2.5.0->Sphinx>=3.0.0->uqbar<0.5.0,>=0.4.4->abjad) (2.10)\n",
            "Requirement already satisfied: certifi>=2017.4.17 in /usr/local/lib/python3.6/dist-packages (from requests>=2.5.0->Sphinx>=3.0.0->uqbar<0.5.0,>=0.4.4->abjad) (2020.6.20)\n",
            "Requirement already satisfied: urllib3!=1.25.0,!=1.25.1,<1.26,>=1.21.1 in /usr/local/lib/python3.6/dist-packages (from requests>=2.5.0->Sphinx>=3.0.0->uqbar<0.5.0,>=0.4.4->abjad) (1.24.3)\n",
            "Requirement already satisfied: chardet<4,>=3.0.2 in /usr/local/lib/python3.6/dist-packages (from requests>=2.5.0->Sphinx>=3.0.0->uqbar<0.5.0,>=0.4.4->abjad) (3.0.4)\n",
            "Building wheels for collected packages: black\n",
            "  Building wheel for black (PEP 517) ... \u001b[?25l\u001b[?25hdone\n",
            "  Created wheel for black: filename=black-20.8b1-cp36-none-any.whl size=124186 sha256=32e586aab8a7c104eaf1a00de6ccc6582c91aeeace866a6db1a0d11115515d84\n",
            "  Stored in directory: /root/.cache/pip/wheels/6e/10/b5/edf7359c2edd0305cce7e3f96e07daf7ce55dceac9d3ce3373\n",
            "Successfully built black\n",
            "Building wheels for collected packages: python-rtmidi, abjad, uqbar\n",
            "  Building wheel for python-rtmidi (setup.py) ... \u001b[?25l\u001b[?25hdone\n",
            "  Created wheel for python-rtmidi: filename=python_rtmidi-1.4.5-cp36-cp36m-linux_x86_64.whl size=478467 sha256=89a82832a4c0a499af6d4fd3b781b13c33c9a8878e0b47a023cd296d192c2e6d\n",
            "  Stored in directory: /root/.cache/pip/wheels/cf/76/d8/fbcfcf675477522d6616113e9395789a61d4d95c8ebdd40523\n",
            "  Building wheel for abjad (setup.py) ... \u001b[?25l\u001b[?25hdone\n",
            "  Created wheel for abjad: filename=Abjad-3.1-cp36-none-any.whl size=849203 sha256=d3d50336bd4ccb5949074be54517246f2bc0289ce8aaee0b4fdf44415cec60a4\n",
            "  Stored in directory: /root/.cache/pip/wheels/ab/74/dd/f8018d7b9bd1dd413f48e179909c3b91a41c552d08ba7b40f3\n",
            "  Building wheel for uqbar (setup.py) ... \u001b[?25l\u001b[?25hdone\n",
            "  Created wheel for uqbar: filename=uqbar-0.4.7-cp36-none-any.whl size=82498 sha256=0c149629625241545bf0fc1f2c2b3934521f6a723da9f639d8a891420c9c799c\n",
            "  Stored in directory: /root/.cache/pip/wheels/e9/13/65/308679f10105d9ec7e2c6f064b07885db7268e06f0b75e3174\n",
            "Successfully built python-rtmidi abjad uqbar\n",
            "\u001b[31mERROR: datascience 0.10.6 has requirement folium==0.2.1, but you'll have folium 0.8.3 which is incompatible.\u001b[0m\n",
            "Installing collected packages: python-rtmidi, ply, roman, sphinxcontrib-jsmath, sphinxcontrib-htmlhelp, sphinxcontrib-applehelp, sphinxcontrib-devhelp, sphinxcontrib-qthelp, Sphinx, Unidecode, pathspec, mypy-extensions, appdirs, regex, typed-ast, black, sphinx-rtd-theme, uqbar, abjad\n",
            "  Found existing installation: Sphinx 1.8.5\n",
            "    Uninstalling Sphinx-1.8.5:\n",
            "      Successfully uninstalled Sphinx-1.8.5\n",
            "  Found existing installation: regex 2019.12.20\n",
            "    Uninstalling regex-2019.12.20:\n",
            "      Successfully uninstalled regex-2019.12.20\n",
            "Successfully installed Sphinx-3.2.1 Unidecode-1.1.1 abjad-3.1 appdirs-1.4.4 black-20.8b1 mypy-extensions-0.4.3 pathspec-0.8.0 ply-3.11 python-rtmidi-1.4.5 regex-2020.9.27 roman-3.3 sphinx-rtd-theme-0.5.0 sphinxcontrib-applehelp-1.0.2 sphinxcontrib-devhelp-1.0.2 sphinxcontrib-htmlhelp-1.0.3 sphinxcontrib-jsmath-1.0.1 sphinxcontrib-qthelp-1.0.3 typed-ast-1.4.1 uqbar-0.4.7\n"
          ],
          "name": "stdout"
        },
        {
          "output_type": "display_data",
          "data": {
            "application/vnd.colab-display-data+json": {
              "pip_warning": {
                "packages": [
                  "sphinxcontrib"
                ]
              }
            }
          },
          "metadata": {
            "tags": []
          }
        }
      ]
    },
    {
      "cell_type": "code",
      "metadata": {
        "id": "OG8gyxdaBlqQ",
        "outputId": "a5523f6b-767d-4958-fecd-0dbf12529a8f",
        "colab": {
          "base_uri": "https://localhost:8080/",
          "height": 68
        }
      },
      "source": [
        "from scamp import *"
      ],
      "execution_count": 1,
      "outputs": [
        {
          "output_type": "stream",
          "text": [
            "WARNING:root:Fluidsynth could not be loaded; synth output will not be available.\n",
            "WARNING:root:pynput was not found; mouse and keyboard input will not be available.\n"
          ],
          "name": "stderr"
        },
        {
          "output_type": "stream",
          "text": [
            "NOTE: The Pärt demo requires abjad-ext-tonality\n"
          ],
          "name": "stdout"
        }
      ]
    },
    {
      "cell_type": "code",
      "metadata": {
        "id": "qS32eXw0BrEM"
      },
      "source": [
        "s = Session()"
      ],
      "execution_count": 2,
      "outputs": []
    },
    {
      "cell_type": "code",
      "metadata": {
        "id": "xVFWhWO8BtQG",
        "outputId": "c42ee0fe-bebf-4ac8-9f00-0dc10830f869",
        "colab": {
          "base_uri": "https://localhost:8080/",
          "height": 476
        }
      },
      "source": [
        "clarinet = s.new_part(\"clarinet\")\n",
        "oboe = s.new_part(\"oboe\")"
      ],
      "execution_count": 3,
      "outputs": [
        {
          "output_type": "stream",
          "text": [
            "Using preset Clarinet for clarinet\n"
          ],
          "name": "stdout"
        },
        {
          "output_type": "error",
          "ename": "ModuleNotFoundError",
          "evalue": "ignored",
          "traceback": [
            "\u001b[0;31m---------------------------------------------------------------------------\u001b[0m",
            "\u001b[0;31mModuleNotFoundError\u001b[0m                       Traceback (most recent call last)",
            "\u001b[0;32m<ipython-input-3-66867f7ec3ae>\u001b[0m in \u001b[0;36m<module>\u001b[0;34m()\u001b[0m\n\u001b[0;32m----> 1\u001b[0;31m \u001b[0mclarinet\u001b[0m \u001b[0;34m=\u001b[0m \u001b[0ms\u001b[0m\u001b[0;34m.\u001b[0m\u001b[0mnew_part\u001b[0m\u001b[0;34m(\u001b[0m\u001b[0;34m\"clarinet\"\u001b[0m\u001b[0;34m)\u001b[0m\u001b[0;34m\u001b[0m\u001b[0;34m\u001b[0m\u001b[0m\n\u001b[0m\u001b[1;32m      2\u001b[0m \u001b[0moboe\u001b[0m \u001b[0;34m=\u001b[0m \u001b[0ms\u001b[0m\u001b[0;34m.\u001b[0m\u001b[0mnew_part\u001b[0m\u001b[0;34m(\u001b[0m\u001b[0;34m\"oboe\"\u001b[0m\u001b[0;34m)\u001b[0m\u001b[0;34m\u001b[0m\u001b[0;34m\u001b[0m\u001b[0m\n",
            "\u001b[0;32m/usr/local/lib/python3.6/dist-packages/scamp/instruments.py\u001b[0m in \u001b[0;36mnew_part\u001b[0;34m(self, name, preset, soundfont, num_channels, audio_driver, max_pitch_bend, note_on_and_off_only, default_spelling_policy, clef_preference)\u001b[0m\n\u001b[1;32m    174\u001b[0m         instrument.add_soundfont_playback(preset=preset, soundfont=soundfont, num_channels=num_channels,\n\u001b[1;32m    175\u001b[0m                                           \u001b[0maudio_driver\u001b[0m\u001b[0;34m=\u001b[0m\u001b[0maudio_driver\u001b[0m\u001b[0;34m,\u001b[0m \u001b[0mmax_pitch_bend\u001b[0m\u001b[0;34m=\u001b[0m\u001b[0mmax_pitch_bend\u001b[0m\u001b[0;34m,\u001b[0m\u001b[0;34m\u001b[0m\u001b[0;34m\u001b[0m\u001b[0m\n\u001b[0;32m--> 176\u001b[0;31m                                           note_on_and_off_only=note_on_and_off_only)\n\u001b[0m\u001b[1;32m    177\u001b[0m \u001b[0;34m\u001b[0m\u001b[0m\n\u001b[1;32m    178\u001b[0m         \u001b[0;32mreturn\u001b[0m \u001b[0minstrument\u001b[0m\u001b[0;34m\u001b[0m\u001b[0;34m\u001b[0m\u001b[0m\n",
            "\u001b[0;32m/usr/local/lib/python3.6/dist-packages/scamp/instruments.py\u001b[0m in \u001b[0;36madd_soundfont_playback\u001b[0;34m(self, preset, soundfont, num_channels, audio_driver, max_pitch_bend, note_on_and_off_only)\u001b[0m\n\u001b[1;32m   1001\u001b[0m         SoundfontPlaybackImplementation(self, bank_and_preset=preset, soundfont=soundfont, num_channels=num_channels,\n\u001b[1;32m   1002\u001b[0m                                         \u001b[0maudio_driver\u001b[0m\u001b[0;34m=\u001b[0m\u001b[0maudio_driver\u001b[0m\u001b[0;34m,\u001b[0m \u001b[0mmax_pitch_bend\u001b[0m\u001b[0;34m=\u001b[0m\u001b[0mmax_pitch_bend\u001b[0m\u001b[0;34m,\u001b[0m\u001b[0;34m\u001b[0m\u001b[0;34m\u001b[0m\u001b[0m\n\u001b[0;32m-> 1003\u001b[0;31m                                         note_on_and_off_only=note_on_and_off_only)\n\u001b[0m\u001b[1;32m   1004\u001b[0m         \u001b[0;32mreturn\u001b[0m \u001b[0mself\u001b[0m\u001b[0;34m\u001b[0m\u001b[0;34m\u001b[0m\u001b[0m\n\u001b[1;32m   1005\u001b[0m \u001b[0;34m\u001b[0m\u001b[0m\n",
            "\u001b[0;32m/usr/local/lib/python3.6/dist-packages/scamp/playback_implementations.py\u001b[0m in \u001b[0;36m__call__\u001b[0;34m(cls, *args, **kwargs)\u001b[0m\n\u001b[1;32m     41\u001b[0m     \u001b[0;32mdef\u001b[0m \u001b[0m__call__\u001b[0m\u001b[0;34m(\u001b[0m\u001b[0mcls\u001b[0m\u001b[0;34m,\u001b[0m \u001b[0;34m*\u001b[0m\u001b[0margs\u001b[0m\u001b[0;34m,\u001b[0m \u001b[0;34m**\u001b[0m\u001b[0mkwargs\u001b[0m\u001b[0;34m)\u001b[0m\u001b[0;34m:\u001b[0m\u001b[0;34m\u001b[0m\u001b[0;34m\u001b[0m\u001b[0m\n\u001b[1;32m     42\u001b[0m         \u001b[0minstance\u001b[0m \u001b[0;34m=\u001b[0m \u001b[0msuper\u001b[0m\u001b[0;34m(\u001b[0m\u001b[0;34m)\u001b[0m\u001b[0;34m.\u001b[0m\u001b[0m__call__\u001b[0m\u001b[0;34m(\u001b[0m\u001b[0;34m*\u001b[0m\u001b[0margs\u001b[0m\u001b[0;34m,\u001b[0m \u001b[0;34m**\u001b[0m\u001b[0mkwargs\u001b[0m\u001b[0;34m)\u001b[0m\u001b[0;34m\u001b[0m\u001b[0;34m\u001b[0m\u001b[0m\n\u001b[0;32m---> 43\u001b[0;31m         \u001b[0minstance\u001b[0m\u001b[0;34m.\u001b[0m\u001b[0m_try_to_bind_host_instrument\u001b[0m\u001b[0;34m(\u001b[0m\u001b[0;34m)\u001b[0m\u001b[0;34m\u001b[0m\u001b[0;34m\u001b[0m\u001b[0m\n\u001b[0m\u001b[1;32m     44\u001b[0m         \u001b[0;32mreturn\u001b[0m \u001b[0minstance\u001b[0m\u001b[0;34m\u001b[0m\u001b[0;34m\u001b[0m\u001b[0m\n\u001b[1;32m     45\u001b[0m \u001b[0;34m\u001b[0m\u001b[0m\n",
            "\u001b[0;32m/usr/local/lib/python3.6/dist-packages/scamp/playback_implementations.py\u001b[0m in \u001b[0;36m_try_to_bind_host_instrument\u001b[0;34m(self)\u001b[0m\n\u001b[1;32m     66\u001b[0m     \u001b[0;32mdef\u001b[0m \u001b[0m_try_to_bind_host_instrument\u001b[0m\u001b[0;34m(\u001b[0m\u001b[0mself\u001b[0m\u001b[0;34m)\u001b[0m\u001b[0;34m:\u001b[0m\u001b[0;34m\u001b[0m\u001b[0;34m\u001b[0m\u001b[0m\n\u001b[1;32m     67\u001b[0m         \u001b[0;32mif\u001b[0m \u001b[0mself\u001b[0m\u001b[0;34m.\u001b[0m\u001b[0m_host_instrument\u001b[0m \u001b[0;32mis\u001b[0m \u001b[0;32mnot\u001b[0m \u001b[0;32mNone\u001b[0m\u001b[0;34m:\u001b[0m\u001b[0;34m\u001b[0m\u001b[0;34m\u001b[0m\u001b[0m\n\u001b[0;32m---> 68\u001b[0;31m             \u001b[0mself\u001b[0m\u001b[0;34m.\u001b[0m\u001b[0mset_host_instrument\u001b[0m\u001b[0;34m(\u001b[0m\u001b[0mself\u001b[0m\u001b[0;34m.\u001b[0m\u001b[0m_host_instrument\u001b[0m\u001b[0;34m)\u001b[0m\u001b[0;34m\u001b[0m\u001b[0;34m\u001b[0m\u001b[0m\n\u001b[0m\u001b[1;32m     69\u001b[0m \u001b[0;34m\u001b[0m\u001b[0m\n\u001b[1;32m     70\u001b[0m     \u001b[0;32mdef\u001b[0m \u001b[0mset_host_instrument\u001b[0m\u001b[0;34m(\u001b[0m\u001b[0mself\u001b[0m\u001b[0;34m,\u001b[0m \u001b[0mhost_instrument\u001b[0m\u001b[0;34m:\u001b[0m \u001b[0;34m'instruments_module.ScampInstrument'\u001b[0m\u001b[0;34m)\u001b[0m\u001b[0;34m:\u001b[0m\u001b[0;34m\u001b[0m\u001b[0;34m\u001b[0m\u001b[0m\n",
            "\u001b[0;32m/usr/local/lib/python3.6/dist-packages/scamp/playback_implementations.py\u001b[0m in \u001b[0;36mset_host_instrument\u001b[0;34m(self, host_instrument)\u001b[0m\n\u001b[1;32m     83\u001b[0m         \u001b[0;32mif\u001b[0m \u001b[0mself\u001b[0m \u001b[0;32mnot\u001b[0m \u001b[0;32min\u001b[0m \u001b[0mhost_instrument\u001b[0m\u001b[0;34m.\u001b[0m\u001b[0mplayback_implementations\u001b[0m\u001b[0;34m:\u001b[0m\u001b[0;34m\u001b[0m\u001b[0;34m\u001b[0m\u001b[0m\n\u001b[1;32m     84\u001b[0m             \u001b[0mhost_instrument\u001b[0m\u001b[0;34m.\u001b[0m\u001b[0mplayback_implementations\u001b[0m\u001b[0;34m.\u001b[0m\u001b[0mappend\u001b[0m\u001b[0;34m(\u001b[0m\u001b[0mself\u001b[0m\u001b[0;34m)\u001b[0m\u001b[0;34m\u001b[0m\u001b[0;34m\u001b[0m\u001b[0m\n\u001b[0;32m---> 85\u001b[0;31m         \u001b[0mself\u001b[0m\u001b[0;34m.\u001b[0m\u001b[0m_initialize_shared_resources\u001b[0m\u001b[0;34m(\u001b[0m\u001b[0;34m)\u001b[0m\u001b[0;34m\u001b[0m\u001b[0;34m\u001b[0m\u001b[0m\n\u001b[0m\u001b[1;32m     86\u001b[0m \u001b[0;34m\u001b[0m\u001b[0m\n\u001b[1;32m     87\u001b[0m     \u001b[0;32mdef\u001b[0m \u001b[0m_initialize_shared_resources\u001b[0m\u001b[0;34m(\u001b[0m\u001b[0mself\u001b[0m\u001b[0;34m)\u001b[0m\u001b[0;34m:\u001b[0m\u001b[0;34m\u001b[0m\u001b[0;34m\u001b[0m\u001b[0m\n",
            "\u001b[0;32m/usr/local/lib/python3.6/dist-packages/scamp/playback_implementations.py\u001b[0m in \u001b[0;36m_initialize_shared_resources\u001b[0;34m(self)\u001b[0m\n\u001b[1;32m    566\u001b[0m         \u001b[0msoundfont_host_resource_key\u001b[0m \u001b[0;34m=\u001b[0m \u001b[0;34m\"{}_soundfont_host\"\u001b[0m\u001b[0;34m.\u001b[0m\u001b[0mformat\u001b[0m\u001b[0;34m(\u001b[0m\u001b[0maudio_driver\u001b[0m\u001b[0;34m)\u001b[0m\u001b[0;34m\u001b[0m\u001b[0;34m\u001b[0m\u001b[0m\n\u001b[1;32m    567\u001b[0m         \u001b[0;32mif\u001b[0m \u001b[0;32mnot\u001b[0m \u001b[0mself\u001b[0m\u001b[0;34m.\u001b[0m\u001b[0mhas_shared_resource\u001b[0m\u001b[0;34m(\u001b[0m\u001b[0msoundfont_host_resource_key\u001b[0m\u001b[0;34m)\u001b[0m\u001b[0;34m:\u001b[0m\u001b[0;34m\u001b[0m\u001b[0;34m\u001b[0m\u001b[0m\n\u001b[0;32m--> 568\u001b[0;31m             \u001b[0mself\u001b[0m\u001b[0;34m.\u001b[0m\u001b[0mset_shared_resource\u001b[0m\u001b[0;34m(\u001b[0m\u001b[0msoundfont_host_resource_key\u001b[0m\u001b[0;34m,\u001b[0m \u001b[0mSoundfontHost\u001b[0m\u001b[0;34m(\u001b[0m\u001b[0mself\u001b[0m\u001b[0;34m.\u001b[0m\u001b[0msoundfont\u001b[0m\u001b[0;34m,\u001b[0m \u001b[0maudio_driver\u001b[0m\u001b[0;34m)\u001b[0m\u001b[0;34m)\u001b[0m\u001b[0;34m\u001b[0m\u001b[0;34m\u001b[0m\u001b[0m\n\u001b[0m\u001b[1;32m    569\u001b[0m         \u001b[0mself\u001b[0m\u001b[0;34m.\u001b[0m\u001b[0msoundfont_host\u001b[0m \u001b[0;34m=\u001b[0m \u001b[0mself\u001b[0m\u001b[0;34m.\u001b[0m\u001b[0mget_shared_resource\u001b[0m\u001b[0;34m(\u001b[0m\u001b[0msoundfont_host_resource_key\u001b[0m\u001b[0;34m)\u001b[0m\u001b[0;34m\u001b[0m\u001b[0;34m\u001b[0m\u001b[0m\n\u001b[1;32m    570\u001b[0m         \u001b[0;32mif\u001b[0m \u001b[0mself\u001b[0m\u001b[0;34m.\u001b[0m\u001b[0msoundfont\u001b[0m \u001b[0;32mnot\u001b[0m \u001b[0;32min\u001b[0m \u001b[0mself\u001b[0m\u001b[0;34m.\u001b[0m\u001b[0msoundfont_host\u001b[0m\u001b[0;34m.\u001b[0m\u001b[0msoundfont_ids\u001b[0m\u001b[0;34m:\u001b[0m\u001b[0;34m\u001b[0m\u001b[0;34m\u001b[0m\u001b[0m\n",
            "\u001b[0;32m/usr/local/lib/python3.6/dist-packages/scamp/_soundfont_host.py\u001b[0m in \u001b[0;36m__init__\u001b[0;34m(self, soundfonts, audio_driver)\u001b[0m\n\u001b[1;32m     38\u001b[0m \u001b[0;34m\u001b[0m\u001b[0m\n\u001b[1;32m     39\u001b[0m         \u001b[0;32mif\u001b[0m \u001b[0mfluidsynth\u001b[0m \u001b[0;32mis\u001b[0m \u001b[0;32mNone\u001b[0m\u001b[0;34m:\u001b[0m\u001b[0;34m\u001b[0m\u001b[0;34m\u001b[0m\u001b[0m\n\u001b[0;32m---> 40\u001b[0;31m             \u001b[0;32mraise\u001b[0m \u001b[0mModuleNotFoundError\u001b[0m\u001b[0;34m(\u001b[0m\u001b[0;34m\"FluidSynth not available.\"\u001b[0m\u001b[0;34m)\u001b[0m\u001b[0;34m\u001b[0m\u001b[0;34m\u001b[0m\u001b[0m\n\u001b[0m\u001b[1;32m     41\u001b[0m \u001b[0;34m\u001b[0m\u001b[0m\n\u001b[1;32m     42\u001b[0m         \u001b[0mself\u001b[0m\u001b[0;34m.\u001b[0m\u001b[0maudio_driver\u001b[0m \u001b[0;34m=\u001b[0m \u001b[0mplayback_settings\u001b[0m\u001b[0;34m.\u001b[0m\u001b[0mdefault_audio_driver\u001b[0m \u001b[0;32mif\u001b[0m \u001b[0maudio_driver\u001b[0m \u001b[0;34m==\u001b[0m \u001b[0;34m\"default\"\u001b[0m \u001b[0;32melse\u001b[0m \u001b[0maudio_driver\u001b[0m\u001b[0;34m\u001b[0m\u001b[0;34m\u001b[0m\u001b[0m\n",
            "\u001b[0;31mModuleNotFoundError\u001b[0m: FluidSynth not available.",
            "",
            "\u001b[0;31m---------------------------------------------------------------------------\u001b[0;32m\nNOTE: If your import is failing due to a missing package, you can\nmanually install dependencies using either !pip or !apt.\n\nTo view examples of installing some common dependencies, click the\n\"Open Examples\" button below.\n\u001b[0;31m---------------------------------------------------------------------------\u001b[0m\n"
          ]
        }
      ]
    },
    {
      "cell_type": "code",
      "metadata": {
        "id": "1Th4T67rDZ9Q"
      },
      "source": [
        ""
      ],
      "execution_count": null,
      "outputs": []
    }
  ]
}