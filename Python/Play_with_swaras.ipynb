{
 "cells": [
  {
   "cell_type": "code",
   "execution_count": 5,
   "metadata": {
    "colab": {
     "base_uri": "https://localhost:8080/",
     "height": 34
    },
    "id": "qjN7IM_BAyhu",
    "outputId": "b4ed8989-fc2e-4678-830d-e6143dbea1ba"
   },
   "outputs": [
    {
     "name": "stdout",
     "output_type": "stream",
     "text": [
      "Requirement already satisfied: music21 in /usr/local/lib/python3.6/dist-packages (5.5.0)\n"
     ]
    }
   ],
   "source": [
    "!pip install music21"
   ]
  },
  {
   "cell_type": "code",
   "execution_count": 6,
   "metadata": {
    "id": "N7vGU20895wf"
   },
   "outputs": [],
   "source": [
    "from music21 import note, stream"
   ]
  },
  {
   "cell_type": "markdown",
   "metadata": {
    "id": "XhshyVfB-eP-"
   },
   "source": [
    "## Bilawal (Hindustani)\n",
    "\n",
    "Exploring all shuddh swaras S R G M P D N S - S N D P M G R S\n",
    "\n",
    "Later on can try and shift the notation system itself to an indian setting. \n",
    "\n",
    "Playing the bilawal raag in C Major key is like playing C Major Scale. "
   ]
  },
  {
   "cell_type": "code",
   "execution_count": 8,
   "metadata": {
    "colab": {
     "base_uri": "https://localhost:8080/",
     "height": 34
    },
    "id": "kXOU7WZR-Di1",
    "outputId": "313c3f2e-eb17-48c0-dc0c-faf6104d9fa6"
   },
   "outputs": [
    {
     "data": {
      "text/plain": [
       "<music21.note.Note C>"
      ]
     },
     "execution_count": 8,
     "metadata": {
      "tags": []
     },
     "output_type": "execute_result"
    }
   ],
   "source": [
    "n1 = note.Note('C4')\n",
    "n1"
   ]
  },
  {
   "cell_type": "markdown",
   "metadata": {},
   "source": [
    " From Mandra saptak to Taar saptak is the range of the average vocalist. \n",
    " \n",
    " <span style=\"color:blue\">Pa Dha Ni</span><span style=\"color:green\"> Sa Re Ga Ma Pa Dha Ni Sa</span><span style=\"color:red\"> Re Ga Ma Pa</span>\n",
    "\n",
    "##### Variations \n",
    "1. Komal Re \n",
    "2. Komal Ga \n",
    "3. Teevra Ma \n",
    "4. Komal Dha\n",
    "5. Komal Ni"
   ]
  },
  {
   "cell_type": "code",
   "execution_count": 1,
   "metadata": {
    "id": "pPr0P4GOAkHJ"
   },
   "outputs": [],
   "source": [
    "from itertools import permutations "
   ]
  },
  {
   "cell_type": "code",
   "execution_count": 11,
   "metadata": {},
   "outputs": [],
   "source": [
    "bilawal = [\"Sa\", \"Re\", \"Ga\", \"Ma\", \"Pa\", \"Dha\", \"Ni\", \"Sa\"]\n",
    "patterns = permutations(bilawal, 2)"
   ]
  },
  {
   "cell_type": "code",
   "execution_count": 17,
   "metadata": {},
   "outputs": [
    {
     "name": "stdout",
     "output_type": "stream",
     "text": [
      "<itertools.permutations object at 0x00000273F892DEB8>\n",
      "<itertools.permutations object at 0x00000273F892DBA0>\n",
      "<itertools.permutations object at 0x00000273F892DEB8>\n",
      "<itertools.permutations object at 0x00000273F892DBA0>\n",
      "<itertools.permutations object at 0x00000273F886EF10>\n",
      "<itertools.permutations object at 0x00000273F892DBA0>\n",
      "<itertools.permutations object at 0x00000273F886EF10>\n",
      "<itertools.permutations object at 0x00000273F892DBA0>\n"
     ]
    }
   ],
   "source": [
    "for i in range(8):\n",
    "    patterns = permutations(bilawal[i:i+2])\n",
    "    print(patterns)"
   ]
  }
 ],
 "metadata": {
  "colab": {
   "name": "Play with swaras.ipynb",
   "provenance": []
  },
  "kernelspec": {
   "display_name": "Python 3",
   "language": "python",
   "name": "python3"
  },
  "language_info": {
   "codemirror_mode": {
    "name": "ipython",
    "version": 3
   },
   "file_extension": ".py",
   "mimetype": "text/x-python",
   "name": "python",
   "nbconvert_exporter": "python",
   "pygments_lexer": "ipython3",
   "version": "3.6.12"
  }
 },
 "nbformat": 4,
 "nbformat_minor": 1
}
