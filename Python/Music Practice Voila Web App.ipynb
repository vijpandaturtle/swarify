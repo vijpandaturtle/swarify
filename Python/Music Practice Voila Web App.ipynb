{
 "cells": [
  {
   "cell_type": "code",
   "execution_count": 3,
   "id": "round-queens",
   "metadata": {},
   "outputs": [],
   "source": [
    "# !jupyter nbextension enable --py widgetsnbextension --sys-prefix\n",
    "# !jupyter serverextension enable voila --sys-prefix"
   ]
  },
  {
   "cell_type": "code",
   "execution_count": 193,
   "id": "federal-musical",
   "metadata": {},
   "outputs": [],
   "source": [
    "import warnings\n",
    "warnings.filterwarnings('ignore')\n",
    "\n",
    "import math\n",
    "import random\n",
    "import numpy as np\n",
    "from itertools import permutations\n",
    "\n",
    "import ipywidgets as widgets\n",
    "from IPython.display import display, clear_output"
   ]
  },
  {
   "cell_type": "code",
   "execution_count": 194,
   "id": "lovely-marina",
   "metadata": {},
   "outputs": [],
   "source": [
    "metronome = widgets.ToggleButtons(\n",
    "            options=['On', 'Off'],\n",
    "            description='Metronome:',\n",
    "        )\n",
    "\n",
    "pitch = widgets.Dropdown(\n",
    "    options=['F', 'G', 'A', 'B', 'C'],\n",
    "    description='Pitch :',\n",
    ")\n",
    "\n",
    "raga = widgets.Dropdown(\n",
    "    options=['Bilawal', 'Kafi'],\n",
    "    description='Raaga :',\n",
    ")\n",
    "\n",
    "numnotes = widgets.Dropdown(\n",
    "    options=['2', '3', '4', '5', '6', '7'],\n",
    "    description='Notes :',\n",
    ")\n",
    "\n",
    "numbars = widgets.IntSlider(\n",
    "            value=3, \n",
    "            min=1, \n",
    "            max=7,\n",
    "            step=1,\n",
    "            style={'description_width': 'initial'},\n",
    "            description='Length',\n",
    "          )\n",
    " \n",
    "tempo = widgets.IntSlider(\n",
    "            value=3, \n",
    "            min=50, \n",
    "            max=250,\n",
    "            step=1,\n",
    "            style={'description_width': 'initial'},\n",
    "            description='Tempo',\n",
    "          )\n",
    "\n",
    "generate = widgets.Button(\n",
    "                description='Generate',\n",
    "                tooltip='Send',\n",
    "                style={'description_width': 'initial'}\n",
    "            )\n",
    "\n",
    "output = widgets.Output()"
   ]
  },
  {
   "cell_type": "code",
   "execution_count": 195,
   "id": "incredible-sugar",
   "metadata": {},
   "outputs": [],
   "source": [
    "def main_pattern(num_notes, num_bars):\n",
    "    pattern_nos = list(range(num_notes))\n",
    "    p = permutations(pattern_nos)\n",
    "    perm = list(p)\n",
    "    pattern = random.sample(perm,num_bars)\n",
    "    pattern = np.array(pattern)\n",
    "    pattern = pattern.flatten()\n",
    "    return pattern\n",
    "\n",
    "def generate_pattern(main_pattern, notes, ending):\n",
    "    gen_pattern = []\n",
    "    for i in range(len(notes)):\n",
    "        next_pat = []\n",
    "        for index in main_pattern:\n",
    "            note = notes[index+i]\n",
    "            next_pat.append(note)\n",
    "        gen_pattern.append(next_pat)\n",
    "        if next_pat[-1] == ending:\n",
    "            break\n",
    "    return gen_pattern\n",
    "\n",
    "def display_pattern(pattern, n):\n",
    "#     for i in range (n, len(pattern)+n, n+1 ):\n",
    "#         pattern.insert ( i, '|' )\n",
    "     for pat in pattern:\n",
    "        print(*pat)\n",
    "    "
   ]
  },
  {
   "cell_type": "code",
   "execution_count": 196,
   "id": "seventh-language",
   "metadata": {},
   "outputs": [],
   "source": [
    "# num_notes = 3\n",
    "# num_bars = 4\n",
    "notes = ['S', 'R', 'G', 'M', 'P', 'D', 'N', 'Ṡ']\n",
    "total_notes = ['P̣', 'Ḍ', 'Ṇ', 'S', 'R', 'G', 'M', 'P', 'D', 'N', 'Ṡ', 'Ṙ', 'Ġ', 'Ṁ', 'Ṗ']\n",
    "notes_asc = notes.copy()\n",
    "notes_desc = notes.copy()[::-1]\n",
    "notes_long_asc = ['S', 'R', 'G', 'M', 'P', 'D', 'N', 'Ṡ', 'Ṙ', 'Ġ', 'Ṁ', 'Ṗ']\n",
    "notes_long_desc = ['Ṡ','N', 'D', 'P', 'M', 'G', 'R', 'S', 'Ṇ', 'Ḍ', 'P̣']"
   ]
  },
  {
   "cell_type": "code",
   "execution_count": 208,
   "id": "eleven-heritage",
   "metadata": {},
   "outputs": [],
   "source": [
    "def on_gen_button_clicked(event):\n",
    "    with output:\n",
    "        clear_output()\n",
    "        if int(numbars.value) > math.factorial(int(numnotes.value)):\n",
    "            return print(\"Too many bars\")\n",
    "        pattern = main_pattern(int(numnotes.value), int(numbars.value))\n",
    "        full_pattern = generate_pattern(pattern, notes_long_asc, 'Ṡ')\n",
    "        full_pattern_desc = generate_pattern(pattern, notes_long_desc, 'S')\n",
    "        display_pattern(full_pattern, int(numnotes.value))\n",
    "        display_pattern(full_pattern_desc, int(numnotes.value))\n",
    "generate.on_click(on_gen_button_clicked)\n",
    "\n",
    "vbox_result = widgets.VBox([output])"
   ]
  },
  {
   "cell_type": "code",
   "execution_count": 209,
   "id": "specific-donor",
   "metadata": {},
   "outputs": [],
   "source": [
    "# stacked right hand side\n",
    "\n",
    "text_0 = widgets.HTML(value=\"<h1>Swarify</h1>\")\n",
    "text_1 = widgets.HTML(value=\"<h3>Alankar practice Made Easy ... </h2>\")\n",
    "text_2 = widgets.HTML(value=\"<h3>Your Generated Alankar is ... </h2>\")\n",
    "\n",
    "vbox_text = widgets.VBox([text_0, text_1, metronome, pitch, raga, numnotes, numbars, tempo, generate])\n",
    "hbox = widgets.VBox([text_2, vbox_result])"
   ]
  },
  {
   "cell_type": "code",
   "execution_count": 211,
   "id": "shaped-victoria",
   "metadata": {},
   "outputs": [
    {
     "data": {
      "application/vnd.jupyter.widget-view+json": {
       "model_id": "3b1801d2dee0499a9bc24ef426af27a8",
       "version_major": 2,
       "version_minor": 0
      },
      "text/plain": [
       "HBox(children=(VBox(children=(HTML(value='<h1>Swarify</h1>'), HTML(value='<h3>Alankar practice Made Easy ... <…"
      ]
     },
     "metadata": {},
     "output_type": "display_data"
    }
   ],
   "source": [
    "page = widgets.HBox([vbox_text, hbox])\n",
    "display(page)"
   ]
  },
  {
   "cell_type": "code",
   "execution_count": null,
   "id": "differential-antibody",
   "metadata": {},
   "outputs": [],
   "source": []
  }
 ],
 "metadata": {
  "kernelspec": {
   "display_name": "Python 3",
   "language": "python",
   "name": "python3"
  },
  "language_info": {
   "codemirror_mode": {
    "name": "ipython",
    "version": 3
   },
   "file_extension": ".py",
   "mimetype": "text/x-python",
   "name": "python",
   "nbconvert_exporter": "python",
   "pygments_lexer": "ipython3",
   "version": "3.7.10"
  }
 },
 "nbformat": 4,
 "nbformat_minor": 5
}
