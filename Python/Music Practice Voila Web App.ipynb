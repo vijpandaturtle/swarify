{
 "cells": [
  {
   "cell_type": "code",
   "execution_count": 3,
   "id": "round-queens",
   "metadata": {},
   "outputs": [],
   "source": [
    "# !jupyter nbextension enable --py widgetsnbextension --sys-prefix\n",
    "# !jupyter serverextension enable voila --sys-prefix"
   ]
  },
  {
   "cell_type": "code",
   "execution_count": 1,
   "id": "federal-musical",
   "metadata": {},
   "outputs": [],
   "source": [
    "import warnings\n",
    "warnings.filterwarnings('ignore')\n",
    "\n",
    "import math\n",
    "import random\n",
    "import numpy as np\n",
    "from itertools import permutations\n",
    "\n",
    "import ipywidgets as widgets\n",
    "from IPython.display import display, clear_output"
   ]
  },
  {
   "cell_type": "code",
   "execution_count": 2,
   "id": "lovely-marina",
   "metadata": {},
   "outputs": [],
   "source": [
    "metronome_play = widgets.Button(\n",
    "                description='Play',\n",
    "                tooltip='Send',\n",
    "                style={'description_width': 'initial'}\n",
    "            )\n",
    "\n",
    "metronome_pause = widgets.Button(\n",
    "                description='Pause',\n",
    "                tooltip='Send',\n",
    "                style={'description_width': 'initial'}\n",
    "            )\n",
    "\n",
    "pitch = widgets.Dropdown(\n",
    "    options=['F', 'G', 'A', 'B', 'C'],\n",
    "    description='Pitch :',\n",
    ")\n",
    "\n",
    "raga = widgets.Dropdown(\n",
    "    options=['Bilawal', 'Kafi'],\n",
    "    description='Raaga :',\n",
    ")\n",
    "\n",
    "numnotes = widgets.Dropdown(\n",
    "    options=['2', '3', '4', '5', '6', '7'],\n",
    "    description='Notes :',\n",
    ")\n",
    "\n",
    "numbars = widgets.IntSlider(\n",
    "            value=3, \n",
    "            min=1, \n",
    "            max=7,\n",
    "            step=1,\n",
    "            style={'description_width': 'initial'},\n",
    "            description='Length',\n",
    "          )\n",
    " \n",
    "tempo = widgets.IntSlider(\n",
    "            value=3, \n",
    "            min=50, \n",
    "            max=250,\n",
    "            step=1,\n",
    "            style={'description_width': 'initial'},\n",
    "            description='Tempo',\n",
    "          )\n",
    "\n",
    "generate = widgets.Button(\n",
    "                description='Generate',\n",
    "                tooltip='Send',\n",
    "                style={'description_width': 'initial'}\n",
    "            )\n",
    "\n",
    "sampleplay = widgets.Button(\n",
    "                description='Play Sample',\n",
    "                tooltip='Send',\n",
    "                style={'description_width': 'initial'}\n",
    "            )\n",
    "\n",
    "output = widgets.Output()"
   ]
  },
  {
   "cell_type": "code",
   "execution_count": 112,
   "id": "incredible-sugar",
   "metadata": {},
   "outputs": [],
   "source": [
    "def main_pattern(num_notes, num_bars):\n",
    "    pattern_nos = list(range(num_notes))\n",
    "    p = permutations(pattern_nos)\n",
    "    perm = list(p)\n",
    "    pattern = random.sample(perm,num_bars)\n",
    "    pattern = np.array(pattern)\n",
    "    pattern = pattern.flatten()\n",
    "    return pattern\n",
    "\n",
    "def generate_pattern(main_pattern, notes, ending):\n",
    "    gen_pattern = []\n",
    "    for i in range(len(notes)):\n",
    "        next_pat = []\n",
    "        for index in main_pattern:\n",
    "            note = notes[index+i]\n",
    "            next_pat.append(note)\n",
    "        gen_pattern.append(next_pat)\n",
    "        if next_pat[-1] == ending:\n",
    "            gen_pattern.append(\"----------------\")\n",
    "            break\n",
    "    return gen_pattern\n",
    "\n",
    "def display_pattern(pattern, n):\n",
    "     for pat in pattern:\n",
    "        print(*pat)"
   ]
  },
  {
   "cell_type": "code",
   "execution_count": 107,
   "id": "seventh-language",
   "metadata": {},
   "outputs": [],
   "source": [
    "notes_long_asc = ['S', 'R', 'G', 'M', 'P', 'D', 'N', 'Ṡ', 'Ṙ', 'Ġ', 'Ṁ', 'Ṗ']\n",
    "notes_long_desc = ['Ṡ','N', 'D', 'P', 'M', 'G', 'R', 'S', 'Ṇ', 'Ḍ', 'P̣']"
   ]
  },
  {
   "cell_type": "code",
   "execution_count": 108,
   "id": "eleven-heritage",
   "metadata": {},
   "outputs": [],
   "source": [
    "def on_gen_button_clicked(event):\n",
    "    with output:\n",
    "        clear_output()\n",
    "        if int(numbars.value) > math.factorial(int(numnotes.value)):\n",
    "            return print(\"Too many bars\")\n",
    "        pattern = main_pattern(int(numnotes.value), int(numbars.value))\n",
    "        full_pattern = generate_pattern(pattern, notes_long_asc, 'Ṡ')\n",
    "        full_pattern_desc = generate_pattern(pattern, notes_long_desc, 'S')\n",
    "        display_pattern(full_pattern, int(numnotes.value))\n",
    "        display_pattern(full_pattern_desc, int(numnotes.value))\n",
    "generate.on_click(on_gen_button_clicked)\n",
    "\n",
    "vbox_result = widgets.VBox([output])"
   ]
  },
  {
   "cell_type": "code",
   "execution_count": 109,
   "id": "piano-railway",
   "metadata": {},
   "outputs": [],
   "source": [
    "def on_play_button_clicked(event):\n",
    "    pass \n",
    "\n",
    "def on_pause_button_clicked(event):\n",
    "    pass \n",
    "\n",
    "#vbox_result = widgets.VBox([output])"
   ]
  },
  {
   "cell_type": "code",
   "execution_count": 115,
   "id": "specific-donor",
   "metadata": {},
   "outputs": [],
   "source": [
    "# stacked right hand side\n",
    "box_layout = widgets.Layout(display='flex',\n",
    "                flex_flow='row',\n",
    "                align_items='center',\n",
    "                justify_content='space-between', \n",
    "                width='50%')\n",
    "\n",
    "text_0 = widgets.HTML(value=\"<h1>Swarify</h1>\")\n",
    "text_1 = widgets.HTML(value=\"<h3>Alankar practice Made Easy ... </h2>\")\n",
    "text_2 = widgets.HTML(value=\"<h5>Metronome</h5>\")\n",
    "text_3 = widgets.HTML(value=\"<h3>Your Generated Alankar is ... </h2>\")\n",
    "\n",
    "hbox_metro = widgets.HBox([metronome_play, metronome_pause]) \n",
    "hbox_gen = widgets.HBox([generate, sampleplay])\n",
    "vbox_text = widgets.VBox([text_0, text_1, raga, numnotes, numbars, tempo, hbox_gen, text_2, hbox_metro, ])\n",
    "hbox = widgets.VBox([text_3, vbox_result])"
   ]
  },
  {
   "cell_type": "code",
   "execution_count": 116,
   "id": "shaped-victoria",
   "metadata": {},
   "outputs": [
    {
     "data": {
      "application/vnd.jupyter.widget-view+json": {
       "model_id": "c591e16d95cf4d3d9ba4929a4e3e92cd",
       "version_major": 2,
       "version_minor": 0
      },
      "text/plain": [
       "HBox(children=(VBox(children=(HTML(value='<h1>Swarify</h1>'), HTML(value='<h3>Alankar practice Made Easy ... <…"
      ]
     },
     "metadata": {},
     "output_type": "display_data"
    }
   ],
   "source": [
    "page = widgets.HBox([vbox_text, hbox], layout=box_layout)\n",
    "display(page)"
   ]
  },
  {
   "cell_type": "code",
   "execution_count": null,
   "id": "differential-antibody",
   "metadata": {},
   "outputs": [],
   "source": []
  }
 ],
 "metadata": {
  "kernelspec": {
   "display_name": "Python 3",
   "language": "python",
   "name": "python3"
  },
  "language_info": {
   "codemirror_mode": {
    "name": "ipython",
    "version": 3
   },
   "file_extension": ".py",
   "mimetype": "text/x-python",
   "name": "python",
   "nbconvert_exporter": "python",
   "pygments_lexer": "ipython3",
   "version": "3.7.10"
  }
 },
 "nbformat": 4,
 "nbformat_minor": 5
}
