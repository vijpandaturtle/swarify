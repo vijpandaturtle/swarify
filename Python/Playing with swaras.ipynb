{
 "cells": [
  {
   "cell_type": "code",
   "execution_count": 2,
   "metadata": {},
   "outputs": [],
   "source": [
    "# Imports required python packages\n",
    "import re\n",
    "import os\n",
    "from pysine import sine"
   ]
  },
  {
   "cell_type": "code",
   "execution_count": 3,
   "metadata": {},
   "outputs": [],
   "source": [
    "# Get current working directory\n",
    "dirpath = os.getcwd()\n",
    "file_name = 'tone.txt'\n",
    "\n",
    "# Open input file\n",
    "fp = open(dirpath+'/'+file_name,'r')\n",
    "\n",
    "# Read chords and frequency\n",
    "line = fp.read()\n",
    "read_data = line.split('\\n')"
   ]
  },
  {
   "cell_type": "code",
   "execution_count": 4,
   "metadata": {},
   "outputs": [
    {
     "name": "stdout",
     "output_type": "stream",
     "text": [
      "['Sa', 'Ri', 'Ga', 'Ma', 'Pa', 'dha', '0', 'ni'] []\n",
      "[523, 587, 659, 698, 784, 880, 0, 988]\n"
     ]
    }
   ],
   "source": [
    "# Parse the chords and frequency values in list format.\n",
    "chords = re.findall('[A-Z,a-z,0-9]+',read_data[0])\n",
    "freq = re.findall('[0-9]+',read_data[1])\n",
    "print(chords, freq)\n",
    "\n",
    "# If frequency is not present, set the default values\n",
    "if not freq:\n",
    "    choices = {'Sa': 523, 'Ri': 587, 'Ga': 659, 'Ma': 698, 'Pa': 784, 'dha': 880, 'ni': 988,'0':0}\n",
    "    freq = []\n",
    "    for i in range(len(chords)):\n",
    "        freq.append(choices[chords[i]])\n",
    "        sine(frequency=freq[i], duration=1.0)\n",
    "    print(freq)"
   ]
  },
  {
   "cell_type": "code",
   "execution_count": null,
   "metadata": {},
   "outputs": [],
   "source": []
  }
 ],
 "metadata": {
  "kernelspec": {
   "display_name": "Python 3",
   "language": "python",
   "name": "python3"
  },
  "language_info": {
   "codemirror_mode": {
    "name": "ipython",
    "version": 3
   },
   "file_extension": ".py",
   "mimetype": "text/x-python",
   "name": "python",
   "nbconvert_exporter": "python",
   "pygments_lexer": "ipython3",
   "version": "3.6.12"
  }
 },
 "nbformat": 4,
 "nbformat_minor": 4
}
