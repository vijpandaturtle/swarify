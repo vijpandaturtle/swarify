{
 "cells": [
  {
   "cell_type": "code",
   "execution_count": 2,
   "id": "resistant-matrix",
   "metadata": {},
   "outputs": [],
   "source": [
    "import random\n",
    "import numpy as np\n",
    "from itertools import permutations"
   ]
  },
  {
   "cell_type": "markdown",
   "id": "indoor-export",
   "metadata": {},
   "source": [
    "Requirements \n",
    "1. Number of notes to generate \n",
    "2. Number of bars \n",
    "3. Select notes in the pattern\n",
    "4. Pattern cannot be repeated\n",
    "5. Notes cannot be repeated - permutation\n",
    "\n",
    "eg : SRGM GSRM, RGMP MRGP"
   ]
  },
  {
   "cell_type": "code",
   "execution_count": 6,
   "id": "worst-event",
   "metadata": {},
   "outputs": [],
   "source": [
    "def main_pattern(num_notes, num_bars):\n",
    "    pattern_nos = list(range(num_notes))\n",
    "    print(pattern_nos)\n",
    "    p = permutations(pattern_nos)\n",
    "    perm = list(p)\n",
    "    pattern = random.sample(perm,num_bars)\n",
    "    print(pattern)\n",
    "    pattern = np.array(pattern)\n",
    "    pattern = pattern.flatten()\n",
    "    return pattern"
   ]
  },
  {
   "cell_type": "code",
   "execution_count": 20,
   "id": "independent-technique",
   "metadata": {},
   "outputs": [
    {
     "name": "stdout",
     "output_type": "stream",
     "text": [
      "[0, 1, 2, 3]\n",
      "[(2, 0, 3, 1), (3, 2, 0, 1), (3, 1, 2, 0), (3, 0, 2, 1), (2, 3, 0, 1), (1, 0, 2, 3)]\n",
      "['G', 'S', 'M', 'R', 'M', 'G', 'S', 'R', 'M', 'R', 'G', 'S', 'M', 'S', 'G', 'R', 'G', 'M', 'S', 'R', 'R', 'S', 'G', 'M']\n",
      "['M', 'R', 'P', 'G', 'P', 'M', 'R', 'G', 'P', 'G', 'M', 'R', 'P', 'R', 'M', 'G', 'M', 'P', 'R', 'G', 'G', 'R', 'M', 'P']\n",
      "['P', 'G', 'D', 'M', 'D', 'P', 'G', 'M', 'D', 'M', 'P', 'G', 'D', 'G', 'P', 'M', 'P', 'D', 'G', 'M', 'M', 'G', 'P', 'D']\n",
      "['D', 'M', 'N', 'P', 'N', 'D', 'M', 'P', 'N', 'P', 'D', 'M', 'N', 'M', 'D', 'P', 'D', 'N', 'M', 'P', 'P', 'M', 'D', 'N']\n",
      "['N', 'P', 'Ṡ', 'D', 'Ṡ', 'N', 'P', 'D', 'Ṡ', 'D', 'N', 'P', 'Ṡ', 'P', 'N', 'D', 'N', 'Ṡ', 'P', 'D', 'D', 'P', 'N', 'Ṡ']\n",
      "-------------------------------\n",
      "['D', 'Ṡ', 'P', 'N', 'P', 'D', 'Ṡ', 'N', 'P', 'N', 'D', 'Ṡ', 'P', 'Ṡ', 'D', 'N', 'D', 'P', 'Ṡ', 'N', 'N', 'Ṡ', 'D', 'P']\n",
      "['P', 'N', 'M', 'D', 'M', 'P', 'N', 'D', 'M', 'D', 'P', 'N', 'M', 'N', 'P', 'D', 'P', 'M', 'N', 'D', 'D', 'N', 'P', 'M']\n",
      "['M', 'D', 'G', 'P', 'G', 'M', 'D', 'P', 'G', 'P', 'M', 'D', 'G', 'D', 'M', 'P', 'M', 'G', 'D', 'P', 'P', 'D', 'M', 'G']\n",
      "['G', 'P', 'R', 'M', 'R', 'G', 'P', 'M', 'R', 'M', 'G', 'P', 'R', 'P', 'G', 'M', 'G', 'R', 'P', 'M', 'M', 'P', 'G', 'R']\n",
      "['R', 'M', 'S', 'G', 'S', 'R', 'M', 'G', 'S', 'G', 'R', 'M', 'S', 'M', 'R', 'G', 'R', 'S', 'M', 'G', 'G', 'M', 'R', 'S']\n"
     ]
    }
   ],
   "source": [
    "num_notes = 4\n",
    "num_bars = 6\n",
    "pattern = main_pattern(num_notes, num_bars)\n",
    "#######Notes#########\n",
    "total_notes = ['P̣', 'Ḍ', 'Ṇ', 'S', 'R', 'G', 'M', 'P', 'D', 'N', 'Ṡ', 'Ṙ', 'Ġ', 'Ṁ', 'Ṗ']\n",
    "notes = ['S', 'R', 'G', 'M', 'P', 'D', 'N', 'Ṡ']\n",
    "notes_asc = notes.copy()\n",
    "notes_desc = notes.copy()[::-1]\n",
    "notes_long_asc = ['S', 'R', 'G', 'M', 'P', 'D', 'N', 'Ṡ', 'Ṙ', 'Ġ', 'Ṁ', 'Ṗ', 'Ḋ', 'Ṅ']\n",
    "notes_long_desc = ['Ṡ','N', 'D', 'P', 'M', 'G', 'R', 'S', 'Ṇ', 'Ḍ', 'P̣', 'Ṃ', 'G̣', 'Ṛ']\n",
    "\n",
    "def generate_pattern(main_pattern, notes):\n",
    "    gen_pattern = []\n",
    "    for i in range(len(notes)):\n",
    "        next_pat = []\n",
    "        for index in pattern:\n",
    "            note = notes[index+i]\n",
    "            next_pat.append(note)\n",
    "        gen_pattern.append(next_pat)\n",
    "        if next_pat[-1] == 'S'or next_pat[-1] == 'Ṡ':\n",
    "            break\n",
    "    return gen_pattern\n",
    "\n",
    "# full_pattern = generate_pattern(pattern, notes_asc)\n",
    "# full_pattern_desc = generate_pattern(pattern, notes_desc)\n",
    "\n",
    "full_pattern = generate_pattern(pattern, notes_long_asc)\n",
    "full_pattern_desc = generate_pattern(pattern, notes_long_desc)\n",
    "\n",
    "def display_pattern(pattern):\n",
    "    for pat in pattern:\n",
    "        print(pat)\n",
    " \n",
    "display_pattern(full_pattern)\n",
    "print(\"-------------------------------\")\n",
    "display_pattern(full_pattern_desc)"
   ]
  },
  {
   "cell_type": "code",
   "execution_count": null,
   "id": "medical-genetics",
   "metadata": {},
   "outputs": [],
   "source": []
  }
 ],
 "metadata": {
  "kernelspec": {
   "display_name": "Python 3",
   "language": "python",
   "name": "python3"
  },
  "language_info": {
   "codemirror_mode": {
    "name": "ipython",
    "version": 3
   },
   "file_extension": ".py",
   "mimetype": "text/x-python",
   "name": "python",
   "nbconvert_exporter": "python",
   "pygments_lexer": "ipython3",
   "version": "3.7.10"
  }
 },
 "nbformat": 4,
 "nbformat_minor": 5
}
