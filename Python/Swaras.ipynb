{
 "cells": [
  {
   "cell_type": "markdown",
   "metadata": {},
   "source": [
    "Specifying levels \n",
    "\n",
    "- Level 1 : Simple, Linear, Ascending, Descending (One octave, no fuss, simple)\n",
    "- Level 2 : Somewhat twisted sticking to one pattern of notes (Two octaves)\n",
    "- Level 3 : Moving across different notes (Two octaves)\n",
    "- Level 4 : Going crazy (3 octaves)\n",
    "\n",
    "\n",
    "Parameters \n",
    "1. Pitch (Starting swara - Sam) \n",
    "2. Tempo (BPM)\n",
    "3. Level (1/2/3/4)\n",
    "4. Range (Lower sa to upper sa - Beginner/ Lower pa to upper pa - Intermediate/ 3 octaves or more - Rockstar) \n",
    "5. Raaga (First version only 5-6 raagas)\n",
    "6. Length of each pattern (optional)\n",
    "7. Pattern number (2,3,4,5,6,7,none)\n",
    "\n",
    "Features :\n",
    "- Standard generation functional programming \n",
    "- State machine based music generation \n",
    "- AI/ML based generation"
   ]
  },
  {
   "cell_type": "code",
   "execution_count": 38,
   "metadata": {},
   "outputs": [
    {
     "name": "stdout",
     "output_type": "stream",
     "text": [
      "[1, 2, 3]\n",
      "[2, 3, 4]\n",
      "[3, 4, 5]\n",
      "[4, 5, 6]\n",
      "[5, 6, 7]\n",
      "[1, 2, 3, 4]\n",
      "[2, 3, 4, 5]\n",
      "[3, 4, 5, 6]\n",
      "[4, 5, 6, 7]\n",
      "[5, 6, 7, 8]\n",
      "[1, 2, 3, 4, 5]\n",
      "[2, 3, 4, 5, 6]\n",
      "[3, 4, 5, 6, 7]\n",
      "[4, 5, 6, 7, 8]\n",
      "[5, 6, 7, 8]\n"
     ]
    }
   ],
   "source": [
    "#Notations \n",
    "swara_dic_beginner = {'Sa' : 1, 'Re' : 2, 'Ga' : 3, 'Ma' : 4, 'Pa' : 5, 'Dha' : 6, 'Ni' : 7, 'USa' : 8}\n",
    "swara_dic_intermediate = {}\n",
    "swara_dic_pro = {}\n",
    "notation = list(swara_dic.values())\n",
    "\n",
    "#3-note groups\n",
    "g = 3\n",
    "n = 8-g #Specify range note\n",
    "for i in range(n):\n",
    "    print(notation[i:i+g])\n",
    "\n",
    "g = 4\n",
    "for i in range(n):\n",
    "    print(notation[i:i+g])\n",
    "    \n",
    "g = 5\n",
    "for i in range(n):\n",
    "    print(notation[i:i+g])"
   ]
  },
  {
   "cell_type": "code",
   "execution_count": null,
   "metadata": {},
   "outputs": [],
   "source": []
  },
  {
   "cell_type": "code",
   "execution_count": null,
   "metadata": {},
   "outputs": [],
   "source": []
  },
  {
   "cell_type": "code",
   "execution_count": null,
   "metadata": {},
   "outputs": [],
   "source": []
  }
 ],
 "metadata": {
  "kernelspec": {
   "display_name": "Python 3",
   "language": "python",
   "name": "python3"
  },
  "language_info": {
   "codemirror_mode": {
    "name": "ipython",
    "version": 3
   },
   "file_extension": ".py",
   "mimetype": "text/x-python",
   "name": "python",
   "nbconvert_exporter": "python",
   "pygments_lexer": "ipython3",
   "version": "3.6.12"
  }
 },
 "nbformat": 4,
 "nbformat_minor": 4
}
