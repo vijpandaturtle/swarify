{
 "cells": [
  {
   "cell_type": "code",
   "execution_count": 3,
   "id": "resistant-matrix",
   "metadata": {},
   "outputs": [],
   "source": [
    "import random\n",
    "import numpy as np\n",
    "from itertools import permutations"
   ]
  },
  {
   "cell_type": "markdown",
   "id": "indoor-export",
   "metadata": {},
   "source": [
    "Requirements \n",
    "1. Number of notes to generate \n",
    "2. Number of bars \n",
    "3. Select notes in the pattern\n",
    "4. Pattern cannot be repeated\n",
    "5. Notes cannot be repeated - permutation\n",
    "\n",
    "eg : SRGM GSRM, RGMP MRGP"
   ]
  },
  {
   "cell_type": "code",
   "execution_count": 147,
   "id": "worst-event",
   "metadata": {},
   "outputs": [],
   "source": [
    "def main_pattern(num_notes, num_bars):\n",
    "    pattern_nos = list(range(num_notes))\n",
    "    print(pattern_nos)\n",
    "    p = permutations(pattern_nos)\n",
    "    perm = list(p)\n",
    "    pattern = random.sample(perm,num_bars)\n",
    "    print(pattern)\n",
    "    pattern = np.array(pattern)\n",
    "    pattern = pattern.flatten()\n",
    "    return pattern"
   ]
  },
  {
   "cell_type": "code",
   "execution_count": 154,
   "id": "independent-technique",
   "metadata": {},
   "outputs": [
    {
     "name": "stdout",
     "output_type": "stream",
     "text": [
      "[0, 1, 2, 3, 4, 5, 6]\n",
      "[(3, 1, 6, 4, 0, 5, 2), (2, 6, 0, 3, 1, 5, 4), (4, 1, 2, 0, 6, 3, 5), (5, 1, 6, 3, 0, 2, 4)]\n",
      "['M', 'R', 'N', 'P', 'S', 'D', 'G', 'G', 'N', 'S', 'M', 'R', 'D', 'P', 'P', 'R', 'G', 'S', 'N', 'M', 'D', 'D', 'R', 'N', 'M', 'S', 'G', 'P']\n",
      "['P', 'G', 'Ṡ', 'D', 'R', 'N', 'M', 'M', 'Ṡ', 'R', 'P', 'G', 'N', 'D', 'D', 'G', 'M', 'R', 'Ṡ', 'P', 'N', 'N', 'G', 'Ṡ', 'P', 'R', 'M', 'D']\n",
      "['D', 'M', 'Ṙ', 'N', 'G', 'Ṡ', 'P', 'P', 'Ṙ', 'G', 'D', 'M', 'Ṡ', 'N', 'N', 'M', 'P', 'G', 'Ṙ', 'D', 'Ṡ', 'Ṡ', 'M', 'Ṙ', 'D', 'G', 'P', 'N']\n",
      "['N', 'P', 'Ġ', 'Ṡ', 'M', 'Ṙ', 'D', 'D', 'Ġ', 'M', 'N', 'P', 'Ṙ', 'Ṡ', 'Ṡ', 'P', 'D', 'M', 'Ġ', 'N', 'Ṙ', 'Ṙ', 'P', 'Ġ', 'N', 'M', 'D', 'Ṡ']\n",
      "-------------------------------\n",
      "['P', 'N', 'R', 'M', 'Ṡ', 'G', 'D', 'D', 'R', 'Ṡ', 'P', 'N', 'G', 'M', 'M', 'N', 'D', 'Ṡ', 'R', 'P', 'G', 'G', 'N', 'R', 'P', 'Ṡ', 'D', 'M']\n",
      "['M', 'D', 'S', 'G', 'N', 'R', 'P', 'P', 'S', 'N', 'M', 'D', 'R', 'G', 'G', 'D', 'P', 'N', 'S', 'M', 'R', 'R', 'D', 'S', 'M', 'N', 'P', 'G']\n",
      "['G', 'P', 'Ṇ', 'R', 'D', 'S', 'M', 'M', 'Ṇ', 'D', 'G', 'P', 'S', 'R', 'R', 'P', 'M', 'D', 'Ṇ', 'G', 'S', 'S', 'P', 'Ṇ', 'G', 'D', 'M', 'R']\n",
      "['R', 'M', 'Ḍ', 'S', 'P', 'Ṇ', 'G', 'G', 'Ḍ', 'P', 'R', 'M', 'Ṇ', 'S', 'S', 'M', 'G', 'P', 'Ḍ', 'R', 'Ṇ', 'Ṇ', 'M', 'Ḍ', 'R', 'P', 'G', 'S']\n"
     ]
    }
   ],
   "source": [
    "num_notes = 7\n",
    "num_bars = 4\n",
    "pattern = main_pattern(num_notes, num_bars)\n",
    "#######Notes#########\n",
    "total_notes = ['P̣', 'Ḍ', 'Ṇ', 'S', 'R', 'G', 'M', 'P', 'D', 'N', 'Ṡ', 'Ṙ', 'Ġ', 'Ṁ', 'Ṗ']\n",
    "notes = ['S', 'R', 'G', 'M', 'P', 'D', 'N', 'Ṡ']\n",
    "notes_asc = notes.copy()\n",
    "notes_desc = notes.copy()[::-1]\n",
    "notes_long_asc = ['S', 'R', 'G', 'M', 'P', 'D', 'N', 'Ṡ', 'Ṙ', 'Ġ', 'Ṁ', 'Ṗ']\n",
    "notes_long_desc = ['Ṡ','N', 'D', 'P', 'M', 'G', 'R', 'S', 'Ṇ', 'Ḍ', 'P̣']\n",
    "\n",
    "def generate_pattern(main_pattern, notes):\n",
    "    gen_pattern = []\n",
    "    for i in range(len(notes)):\n",
    "        next_pat = []\n",
    "        for index in pattern:\n",
    "            note = notes[index+i]\n",
    "            next_pat.append(note)\n",
    "        gen_pattern.append(next_pat)\n",
    "        if next_pat[-1] == 'S'or next_pat[-1] == 'Ṡ':\n",
    "            break\n",
    "    return gen_pattern\n",
    "\n",
    "# full_pattern = generate_pattern(pattern, notes_asc)\n",
    "# full_pattern_desc = generate_pattern(pattern, notes_desc)\n",
    "\n",
    "full_pattern = generate_pattern(pattern, notes_long_asc)\n",
    "full_pattern_desc = generate_pattern(pattern, notes_long_desc)\n",
    "\n",
    "def display_pattern(pattern):\n",
    "    for pat in pattern:\n",
    "        print(pat)\n",
    " \n",
    "display_pattern(full_pattern)\n",
    "print(\"-------------------------------\")\n",
    "display_pattern(full_pattern_desc)"
   ]
  },
  {
   "cell_type": "code",
   "execution_count": null,
   "id": "medical-genetics",
   "metadata": {},
   "outputs": [],
   "source": []
  }
 ],
 "metadata": {
  "kernelspec": {
   "display_name": "Python 3",
   "language": "python",
   "name": "python3"
  },
  "language_info": {
   "codemirror_mode": {
    "name": "ipython",
    "version": 3
   },
   "file_extension": ".py",
   "mimetype": "text/x-python",
   "name": "python",
   "nbconvert_exporter": "python",
   "pygments_lexer": "ipython3",
   "version": "3.7.10"
  }
 },
 "nbformat": 4,
 "nbformat_minor": 5
}
