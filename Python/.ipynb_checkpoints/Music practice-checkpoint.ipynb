{
 "cells": [
  {
   "cell_type": "code",
   "execution_count": 2,
   "id": "resistant-matrix",
   "metadata": {},
   "outputs": [],
   "source": [
    "import random\n",
    "import numpy as np\n",
    "from itertools import permutations"
   ]
  },
  {
   "cell_type": "markdown",
   "id": "indoor-export",
   "metadata": {},
   "source": [
    "Requirements \n",
    "1. Number of notes to generate \n",
    "2. Number of bars \n",
    "3. Select notes in the pattern\n",
    "4. Pattern cannot be repeated\n",
    "5. Notes cannot be repeated - permutation\n",
    "\n",
    "eg : SRGM GSRM, RGMP MRGP"
   ]
  },
  {
   "cell_type": "code",
   "execution_count": 6,
   "id": "worst-event",
   "metadata": {},
   "outputs": [],
   "source": [
    "def main_pattern(num_notes, num_bars):\n",
    "    pattern_nos = list(range(num_notes))\n",
    "    print(pattern_nos)\n",
    "    p = permutations(pattern_nos)\n",
    "    perm = list(p)\n",
    "    pattern = random.sample(perm,num_bars)\n",
    "    print(pattern)\n",
    "    pattern = np.array(pattern)\n",
    "    pattern = pattern.flatten()\n",
    "    return pattern"
   ]
  },
  {
   "cell_type": "code",
   "execution_count": 60,
   "id": "independent-technique",
   "metadata": {},
   "outputs": [
    {
     "name": "stdout",
     "output_type": "stream",
     "text": [
      "[0, 1, 2, 3]\n",
      "[(1, 2, 3, 0), (3, 1, 0, 2), (3, 0, 1, 2), (2, 0, 3, 1), (0, 2, 3, 1), (1, 0, 3, 2)]\n",
      "R G M S || M R S G || M S R G || G S M R || S G M R || R S M G || G M P R || P G R M || P R G M || M R P G || R M P G || G R P M || M P D G || D M G P || D G M P || P G D M || G P D M || M G D P || P D N M || N P M D || N M P D || D M N P || M D N P || P M N D || D N Ṡ P || Ṡ D P N || Ṡ P D N || N P Ṡ D || P N Ṡ D || D P Ṡ N || N Ṡ Ṙ D || Ṙ N D Ṡ || Ṙ D N Ṡ || Ṡ D Ṙ N || D Ṡ Ṙ N || N D Ṙ Ṡ || \n",
      "\n",
      "N D P Ṡ || P N Ṡ D || P Ṡ N D || D Ṡ P N || Ṡ D P N || N Ṡ P D || D P M N || M D N P || M N D P || P N M D || N P M D || D N M P || P M G D || G P D M || G D P M || M D G P || D M G P || P D G M || M G R P || R M P G || R P M G || G P R M || P G R M || M P R G || G R S M || S G M R || S M G R || R M S G || M R S G || G M S R || R S Ṇ G || Ṇ R G S || Ṇ G R S || S G Ṇ R || G S Ṇ R || R G Ṇ S || "
     ]
    }
   ],
   "source": [
    "num_notes = 4\n",
    "num_bars = 6\n",
    "pattern = main_pattern(num_notes, num_bars)\n",
    "#######Notes#########\n",
    "total_notes = ['P̣', 'Ḍ', 'Ṇ', 'S', 'R', 'G', 'M', 'P', 'D', 'N', 'Ṡ', 'Ṙ', 'Ġ', 'Ṁ', 'Ṗ']\n",
    "notes = ['S', 'R', 'G', 'M', 'P', 'D', 'N', 'Ṡ']\n",
    "notes_asc = notes.copy()\n",
    "notes_desc = notes.copy()[::-1]\n",
    "notes_long_asc = ['S', 'R', 'G', 'M', 'P', 'D', 'N', 'Ṡ', 'Ṙ', 'Ġ', 'Ṁ', 'Ṗ', 'Ḋ', 'Ṅ']\n",
    "notes_long_desc = ['Ṡ','N', 'D', 'P', 'M', 'G', 'R', 'S', 'Ṇ', 'Ḍ', 'P̣', 'Ṃ', 'G̣', 'Ṛ']\n",
    "\n",
    "def generate_pattern(main_pattern, notes):\n",
    "    gen_pattern = []\n",
    "    for i in range(len(notes)):\n",
    "        next_pat = []\n",
    "        for index in pattern:\n",
    "            note = notes[index+i]\n",
    "            next_pat.append(note)\n",
    "        gen_pattern.append(next_pat)\n",
    "        if next_pat[-1] == 'S'or next_pat[-1] == 'Ṡ':\n",
    "            break\n",
    "    return gen_pattern\n",
    "\n",
    "# full_pattern = generate_pattern(pattern, notes_asc)\n",
    "# full_pattern_desc = generate_pattern(pattern, notes_desc)\n",
    "\n",
    "full_pattern = generate_pattern(pattern, notes_long_asc)\n",
    "full_pattern_desc = generate_pattern(pattern, notes_long_desc)\n",
    "\n",
    "def display_pattern(pattern, num_notes, num_bars):\n",
    "    multiple = num_notes*num_bars\n",
    "    pattern = np.array(pattern)\n",
    "    pattern = pattern.flatten()\n",
    "    for i in range(0, len(pattern), num_notes):\n",
    "        print(*pattern[i:i+(num_notes)], \"||\", end=\" \")\n",
    "    \n",
    "display_pattern(full_pattern, num_notes, num_bars)\n",
    "print(\"\\n\")\n",
    "display_pattern(full_pattern_desc, num_notes, num_bars)"
   ]
  },
  {
   "cell_type": "code",
   "execution_count": null,
   "id": "medical-genetics",
   "metadata": {},
   "outputs": [],
   "source": []
  }
 ],
 "metadata": {
  "kernelspec": {
   "display_name": "Python 3",
   "language": "python",
   "name": "python3"
  },
  "language_info": {
   "codemirror_mode": {
    "name": "ipython",
    "version": 3
   },
   "file_extension": ".py",
   "mimetype": "text/x-python",
   "name": "python",
   "nbconvert_exporter": "python",
   "pygments_lexer": "ipython3",
   "version": "3.7.10"
  }
 },
 "nbformat": 4,
 "nbformat_minor": 5
}
