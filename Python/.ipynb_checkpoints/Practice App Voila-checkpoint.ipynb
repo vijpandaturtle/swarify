{
 "cells": [
  {
   "cell_type": "code",
   "execution_count": 24,
   "id": "worth-surface",
   "metadata": {},
   "outputs": [],
   "source": [
    "# !jupyter nbextension enable --py widgetsnbextension --sys-prefix\n",
    "# !jupyter serverextension enable voila --sys-prefix"
   ]
  },
  {
   "cell_type": "code",
   "execution_count": 120,
   "id": "palestinian-hamburg",
   "metadata": {},
   "outputs": [],
   "source": [
    "import random\n",
    "import numpy as np\n",
    "from itertools import permutations\n",
    "import ipywidgets as widgets\n",
    "from IPython.display import display, clear_output"
   ]
  },
  {
   "cell_type": "code",
   "execution_count": 121,
   "id": "rubber-knight",
   "metadata": {},
   "outputs": [],
   "source": [
    "metronome = widgets.ToggleButtons(\n",
    "            options=['On', 'Off'],\n",
    "            description='Metronome:',\n",
    "        )\n",
    "\n",
    "pitch = widgets.Dropdown(\n",
    "    options=['F', 'G', 'A', 'B', 'C'],\n",
    "    description='Pitch :',\n",
    ")\n",
    "\n",
    "raga = widgets.Dropdown(\n",
    "    options=['Bilawal', 'Kafi'],\n",
    "    description='Raaga :',\n",
    ")\n",
    "\n",
    "level = widgets.Dropdown(\n",
    "    options=['Easy', 'Medium', 'Hard', 'Very Hard'],\n",
    "    description='Level :',\n",
    ")\n",
    "\n",
    "tempo = widgets.IntSlider(\n",
    "            value=3, \n",
    "            min=1, \n",
    "            max=10,\n",
    "            step=1,\n",
    "            style={'description_width': 'initial'},\n",
    "            description='Tempo',\n",
    "          )\n",
    "\n",
    "generate = widgets.Button(\n",
    "                description='Generate',\n",
    "                tooltip='Send',\n",
    "                style={'description_width': 'initial'}\n",
    "            )\n",
    "\n",
    "practice = widgets.Button(\n",
    "                description='Practice',\n",
    "                tooltip='Send',\n",
    "                style={'description_width': 'initial'}\n",
    ")\n",
    "\n",
    "output = widgets.Output()"
   ]
  },
  {
   "cell_type": "code",
   "execution_count": 122,
   "id": "cosmetic-patrick",
   "metadata": {},
   "outputs": [],
   "source": [
    "def main_pattern(num_notes, num_bars):\n",
    "    pattern_nos = list(range(num_notes))\n",
    "    p = permutations(pattern_nos)\n",
    "    perm = list(p)\n",
    "    pattern = random.sample(perm,num_bars)\n",
    "    pattern = np.array(pattern)\n",
    "    pattern = pattern.flatten()\n",
    "    return pattern\n",
    "\n",
    "def generate_pattern(main_pattern, notes):\n",
    "    gen_pattern = []\n",
    "    for i in range(len(notes)):\n",
    "        next_pat = []\n",
    "        for index in pattern:\n",
    "            note = notes[index+i]\n",
    "            next_pat.append(note)\n",
    "        gen_pattern.append(next_pat)\n",
    "        if next_pat[-1] == 'S'or next_pat[-1] == 'Ṡ':\n",
    "            break\n",
    "    return gen_pattern\n",
    "\n",
    "def display_pattern(pattern):\n",
    "    for pat in pattern:\n",
    "        print(pat)"
   ]
  },
  {
   "cell_type": "code",
   "execution_count": 123,
   "id": "nasty-journal",
   "metadata": {},
   "outputs": [],
   "source": [
    "num_notes = 7\n",
    "num_bars = 4\n",
    "notes = ['S', 'R', 'G', 'M', 'P', 'D', 'N', 'Ṡ']\n",
    "total_notes = ['P̣', 'Ḍ', 'Ṇ', 'S', 'R', 'G', 'M', 'P', 'D', 'N', 'Ṡ', 'Ṙ', 'Ġ', 'Ṁ', 'Ṗ']\n",
    "notes_asc = notes.copy()\n",
    "notes_desc = notes.copy()[::-1]\n",
    "notes_long_asc = ['S', 'R', 'G', 'M', 'P', 'D', 'N', 'Ṡ', 'Ṙ', 'Ġ', 'Ṁ', 'Ṗ']\n",
    "notes_long_desc = ['Ṡ','N', 'D', 'P', 'M', 'G', 'R', 'S', 'Ṇ', 'Ḍ', 'P̣']"
   ]
  },
  {
   "cell_type": "code",
   "execution_count": 125,
   "id": "outside-basketball",
   "metadata": {},
   "outputs": [],
   "source": [
    "pattern = main_pattern(num_notes, num_bars)\n",
    "full_pattern = generate_pattern(pattern, notes_long_asc)\n",
    "full_pattern_desc = generate_pattern(pattern, notes_long_desc)"
   ]
  },
  {
   "cell_type": "code",
   "execution_count": 126,
   "id": "incoming-immunology",
   "metadata": {},
   "outputs": [],
   "source": [
    "# def on_button_clicked(event):\n",
    "#     with output:\n",
    "#         clear_output()\n",
    "#         print(\"Sent message: \")\n",
    "#         print(f\"Dear Grandma! This is your favourite {grand.value}, {name.value}.\")\n",
    "#         print(f\"I would love to come over on {date.value} for dinner, if that's okay for you!\")\n",
    "#         print(f\"Also, if you don't mind, I'll bring along {friends.value} hungry ghosts for your delicious food!\")\n",
    "# button_send.on_click(on_button_clicked)"
   ]
  },
  {
   "cell_type": "code",
   "execution_count": 112,
   "id": "indian-roberts",
   "metadata": {},
   "outputs": [],
   "source": [
    "vbox = widgets.VBox([metronome, pitch, raga, level, tempo])\n",
    "hbox = widgets.HBox([generate, practice])"
   ]
  },
  {
   "cell_type": "code",
   "execution_count": 113,
   "id": "offshore-filling",
   "metadata": {},
   "outputs": [
    {
     "data": {
      "application/vnd.jupyter.widget-view+json": {
       "model_id": "8ecbf760a32a45e3a78c45e80d986055",
       "version_major": 2,
       "version_minor": 0
      },
      "text/plain": [
       "VBox(children=(ToggleButtons(description='Metronome:', options=('On', 'Off'), value='On'), Dropdown(descriptio…"
      ]
     },
     "metadata": {},
     "output_type": "display_data"
    },
    {
     "data": {
      "application/vnd.jupyter.widget-view+json": {
       "model_id": "3198d3c31176448a8cf56ed44e38b651",
       "version_major": 2,
       "version_minor": 0
      },
      "text/plain": [
       "HBox(children=(Button(description='Generate', style=ButtonStyle(), tooltip='Send'), Button(description='Practi…"
      ]
     },
     "metadata": {},
     "output_type": "display_data"
    }
   ],
   "source": [
    "display(vbox, hbox)"
   ]
  },
  {
   "cell_type": "code",
   "execution_count": null,
   "id": "respiratory-registration",
   "metadata": {},
   "outputs": [],
   "source": []
  },
  {
   "cell_type": "code",
   "execution_count": null,
   "id": "latest-craft",
   "metadata": {},
   "outputs": [],
   "source": []
  }
 ],
 "metadata": {
  "kernelspec": {
   "display_name": "Python 3",
   "language": "python",
   "name": "python3"
  },
  "language_info": {
   "codemirror_mode": {
    "name": "ipython",
    "version": 3
   },
   "file_extension": ".py",
   "mimetype": "text/x-python",
   "name": "python",
   "nbconvert_exporter": "python",
   "pygments_lexer": "ipython3",
   "version": "3.7.10"
  }
 },
 "nbformat": 4,
 "nbformat_minor": 5
}
