{
  "nbformat": 4,
  "nbformat_minor": 0,
  "metadata": {
    "colab": {
      "name": "Alankar.ipynb",
      "provenance": [],
      "collapsed_sections": []
    },
    "kernelspec": {
      "name": "python3",
      "display_name": "Python 3"
    }
  },
  "cells": [
    {
      "cell_type": "code",
      "metadata": {
        "id": "jy0Q4Y9dEkDC"
      },
      "source": [
        "import random"
      ],
      "execution_count": 17,
      "outputs": []
    },
    {
      "cell_type": "code",
      "metadata": {
        "id": "Zl1BbYpvBVZs"
      },
      "source": [
        "#set of notes\r\n",
        "pro_aro = ['lP','lD','N','S','R','G','M','P','D','N','uS','uR','uG','uM', 'uP']\r\n",
        "pro_avro = ['uP','uM','uG','uR','uS','N','D','P','M','G','R','S','lN','lD', 'lP']\r\n",
        "aro = ['S','R','G','M','P','D','N','uS']\r\n",
        "avro = ['uS','N','D','P','M','G','R','S']"
      ],
      "execution_count": 6,
      "outputs": []
    },
    {
      "cell_type": "code",
      "metadata": {
        "colab": {
          "base_uri": "https://localhost:8080/"
        },
        "id": "Zr1TFCYJCYsj",
        "outputId": "4331a839-a49f-4839-a495-aa4271d83ba1"
      },
      "source": [
        "#select number of notes \r\n",
        "#Regular ascending descending type of alankar\r\n",
        "def asc_desc(aro, num_notes):\r\n",
        "  alankar = []\r\n",
        "  for i in range(num_notes):\r\n",
        "    group = aro[i:i+num_notes]\r\n",
        "    if len(group) == num_notes: \r\n",
        "      alankar.append(group)\r\n",
        "    #raga.add(n)\r\n",
        "  return alankar\r\n",
        "\r\n",
        "#Ascending descending with variations\r\n",
        "def asc_desc_mixed(aro, num_notes):\r\n",
        "  alankar = []\r\n",
        "  random.seed(234)\r\n",
        "  for i in range(num_notes):\r\n",
        "    group = aro[i:i+num_notes]\r\n",
        "    if len(group) == num_notes: \r\n",
        "      random.shuffle(group)\r\n",
        "      alankar.append(group)\r\n",
        "    #raga.add(n)\r\n",
        "  return alankar\r\n",
        "\r\n",
        "#Ascending descending with variations\r\n",
        "def asc_desc_mixed(aro, num_notes):\r\n",
        "  alankar = []\r\n",
        "  random.seed(234)\r\n",
        "  for i in range(num_notes):\r\n",
        "    group = aro[i:i+num_notes]\r\n",
        "    if len(group) == num_notes: \r\n",
        "      random.shuffle(group)\r\n",
        "      alankar.append(group)\r\n",
        "    #raga.add(n)\r\n",
        "  return alankar\r\n",
        "\r\n",
        "def custom(time_sig):\r\n",
        "  return \r\n",
        "\r\n",
        "\r\n",
        "# alankar = asc_desc(aro, 6)\r\n",
        "# print(alankar)\r\n",
        "# desc = asc_desc(avro, 6)\r\n",
        "# print(desc)\r\n",
        "\r\n",
        "al1 = asc_desc_mixed(aro, 6)\r\n",
        "print(al1)\r\n",
        "desc2 = asc_desc_mixed(avro, 6)\r\n",
        "print(desc2)"
      ],
      "execution_count": 34,
      "outputs": [
        {
          "output_type": "stream",
          "text": [
            "[['M', 'R', 'P', 'S', 'D', 'G'], ['R', 'M', 'N', 'G', 'P', 'D'], ['N', 'uS', 'M', 'G', 'D', 'P']]\n",
            "[['P', 'N', 'M', 'uS', 'G', 'D'], ['N', 'P', 'R', 'D', 'M', 'G'], ['R', 'S', 'P', 'D', 'G', 'M']]\n"
          ],
          "name": "stdout"
        }
      ]
    },
    {
      "cell_type": "code",
      "metadata": {
        "colab": {
          "base_uri": "https://localhost:8080/"
        },
        "id": "mE9TJKWIFxyF",
        "outputId": "7172494c-1d3c-4dab-837a-833038c56786"
      },
      "source": [
        "gr = aro[0:6]\r\n",
        "random.shuffle(gr)\r\n",
        "print(gr)"
      ],
      "execution_count": 25,
      "outputs": [
        {
          "output_type": "stream",
          "text": [
            "['M', 'R', 'P', 'G', 'S', 'D']\n"
          ],
          "name": "stdout"
        }
      ]
    }
  ]
}