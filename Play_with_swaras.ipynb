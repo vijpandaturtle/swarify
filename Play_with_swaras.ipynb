{
  "nbformat": 4,
  "nbformat_minor": 0,
  "metadata": {
    "colab": {
      "name": "Play with swaras.ipynb",
      "provenance": []
    },
    "kernelspec": {
      "name": "python3",
      "display_name": "Python 3"
    }
  },
  "cells": [
    {
      "cell_type": "code",
      "metadata": {
        "id": "qjN7IM_BAyhu",
        "outputId": "b4ed8989-fc2e-4678-830d-e6143dbea1ba",
        "colab": {
          "base_uri": "https://localhost:8080/",
          "height": 34
        }
      },
      "source": [
        "!pip install music21"
      ],
      "execution_count": 5,
      "outputs": [
        {
          "output_type": "stream",
          "text": [
            "Requirement already satisfied: music21 in /usr/local/lib/python3.6/dist-packages (5.5.0)\n"
          ],
          "name": "stdout"
        }
      ]
    },
    {
      "cell_type": "code",
      "metadata": {
        "id": "N7vGU20895wf"
      },
      "source": [
        "from music21 import note, stream"
      ],
      "execution_count": 6,
      "outputs": []
    },
    {
      "cell_type": "markdown",
      "metadata": {
        "id": "XhshyVfB-eP-"
      },
      "source": [
        "## Bilawal (Hindustani)\n",
        "\n",
        "Exploring all shuddh swaras S R G M P D N S - S N D P M G R S\n",
        "\n",
        "Later on can try and shift the notation system itself to an indian setting. \n",
        "\n",
        "Playing the bilawal raag in C Major key is like playing C Major Scale. "
      ]
    },
    {
      "cell_type": "code",
      "metadata": {
        "id": "kXOU7WZR-Di1",
        "outputId": "313c3f2e-eb17-48c0-dc0c-faf6104d9fa6",
        "colab": {
          "base_uri": "https://localhost:8080/",
          "height": 34
        }
      },
      "source": [
        "n1 = note.Note('C4')\n",
        "n1"
      ],
      "execution_count": 8,
      "outputs": [
        {
          "output_type": "execute_result",
          "data": {
            "text/plain": [
              "<music21.note.Note C>"
            ]
          },
          "metadata": {
            "tags": []
          },
          "execution_count": 8
        }
      ]
    },
    {
      "cell_type": "code",
      "metadata": {
        "id": "pPr0P4GOAkHJ"
      },
      "source": [
        ""
      ],
      "execution_count": null,
      "outputs": []
    }
  ]
}